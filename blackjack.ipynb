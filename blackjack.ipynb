{
  "nbformat": 4,
  "nbformat_minor": 0,
  "metadata": {
    "colab": {
      "name": "blackjack.ipynb",
      "provenance": [],
      "authorship_tag": "ABX9TyPQHJEiknGHDTXQyG9DxNab",
      "include_colab_link": true
    },
    "kernelspec": {
      "name": "python3",
      "display_name": "Python 3"
    },
    "language_info": {
      "name": "python"
    }
  },
  "cells": [
    {
      "cell_type": "markdown",
      "metadata": {
        "id": "view-in-github",
        "colab_type": "text"
      },
      "source": [
        "<a href=\"https://colab.research.google.com/github/legendvi/Python_blackJack/blob/master/blackjack.ipynb\" target=\"_parent\"><img src=\"https://colab.research.google.com/assets/colab-badge.svg\" alt=\"Open In Colab\"/></a>"
      ]
    },
    {
      "cell_type": "code",
      "metadata": {
        "id": "jgqI04VtXjr4"
      },
      "source": [
        "#Global Variable\n",
        "import random\n",
        "suits=('Hearts','Diamonds','Spades','Club')\n",
        "ranks=('Two','Three','Four','Five','Six','Seven','Eight','Nine','Ten','Jack','Queen','King','Ace')\n",
        "values={'Two':2,'Three':3,'Four':4,'Five':5,'Six':6,'Seven':7,'Eight':8,'Nine':9,'Ten':10,'Jack':10,'Queen':10,'King':10,'Ace':11}\n",
        "\n"
      ],
      "execution_count": 1,
      "outputs": []
    },
    {
      "cell_type": "code",
      "metadata": {
        "id": "IMGVBcbxVkAe"
      },
      "source": [
        "#class bid\n",
        "\n",
        "class Bid:\n",
        "  def __init__(self,name,bid_amt=100):\n",
        "    self.name=name\n",
        "    self.bid_amt=bid_amt\n",
        "    self.bet_amt=0\n",
        "  def win(self):\n",
        "     self.bid_amt+=self.bet_amt\n",
        "     return self.bid_amt\n",
        "  def lose(self):\n",
        "    self.bid_amt-=self.bet_amt\n",
        "    return self.bid_amt\n",
        "  def __str__(self):\n",
        "    return f\"{self.name} has {self.bid_amt} chips \"\n"
      ],
      "execution_count": 2,
      "outputs": []
    },
    {
      "cell_type": "code",
      "metadata": {
        "id": "4DwnGO3wWbrT"
      },
      "source": [
        "#class Card\n",
        "class Card:\n",
        "  def __init__(self,rank,suit):\n",
        "    self.rank=rank\n",
        "    self.suit=suit\n",
        "  def __str__(self):\n",
        "    return self.rank+' of '+self.suit"
      ],
      "execution_count": 3,
      "outputs": []
    },
    {
      "cell_type": "code",
      "metadata": {
        "id": "5T34TjOWX8Bx"
      },
      "source": [
        "#deck Class\n",
        "class Deck:\n",
        "  def __init__(self):\n",
        "    self.cardspack=[]\n",
        "    for suit in suits:\n",
        "      for rank in ranks:\n",
        "        current_card=Card(rank,suit)\n",
        "        self.cardspack.append(current_card)\n",
        "  def shuffl(self):\n",
        "    random.shuffle(self.cardspack)\n",
        "  def deal_one(self):\n",
        "    return self.cardspack.pop()\n",
        "  def __str__(self):\n",
        "    list_card=''\n",
        "    for card in self.cardspack:\n",
        "      list_card+='\\n'+card.__str__()\n",
        "    return list_card\n",
        "\n"
      ],
      "execution_count": 4,
      "outputs": []
    },
    {
      "cell_type": "code",
      "metadata": {
        "id": "9mXu_Ph6YSo7"
      },
      "source": [
        "#player Class\n",
        "class Player:\n",
        "  def __init__(self):\n",
        "    self.value=0 \n",
        "    self.ace=0\n",
        "    self.mycard=[]\n",
        "  def remove(self):\n",
        "    return self.mycard.pop(0)\n",
        "  def add(self,newcard):\n",
        "      self.mycard.append(newcard)\n",
        "      self.value+=values[newcard.rank]\n",
        "      if newcard.rank=='Ace':\n",
        "        self.ace+=1\n",
        "      return self.mycard\n",
        "  def adjust_ace(self):\n",
        "    while self.value>21 and self.ace:\n",
        "      self.value-=10\n",
        "      self.ace-=1\n",
        "  def __str__(self):\n",
        "    return f'Player has {len(self.mycard)} cards'"
      ],
      "execution_count": 5,
      "outputs": []
    },
    {
      "cell_type": "code",
      "metadata": {
        "id": "12IqGwIucCYZ"
      },
      "source": [
        "\n",
        "#Function to take bet\n",
        "def take_bet(player_chips):\n",
        "  while True:\n",
        "    try:\n",
        "      player_chips.bet_amt=int(input('Enter your bet for the game:'))\n",
        "    except:\n",
        "      print('Please Enter a Valid Integer!!')\n",
        "    else:\n",
        "      if player_chips.bet_amt> player_chips.bid_amt:\n",
        "        print('Bet Amount Exceeds total chips')\n",
        "        continue\n",
        "      else :\n",
        "        break\n"
      ],
      "execution_count": 6,
      "outputs": []
    },
    {
      "cell_type": "code",
      "metadata": {
        "id": "yHhKsOywdeqr"
      },
      "source": [
        "#Function Hit or Stand\n",
        "def hit_or_stand(deck,hand,playing):\n",
        "      # to control an upcoming while loop\n",
        "    \n",
        "    while True:\n",
        "        x = input(\"Would you like to Hit or Stand? Enter 'h' or 's' \")\n",
        "        \n",
        "        if x[0].lower() == 'h':\n",
        "            hit(deck,hand)  # hit() function defined above\n",
        "\n",
        "        elif x[0].lower() == 's':\n",
        "            print(\"Player stands. Dealer is playing.\")\n",
        "            playing = False\n",
        "\n",
        "        else:\n",
        "            print(\"Sorry, please try again.\")\n",
        "            continue\n",
        "        return playing"
      ],
      "execution_count": 7,
      "outputs": []
    },
    {
      "cell_type": "code",
      "metadata": {
        "id": "B26qpAjieUiq"
      },
      "source": [
        "#Fuction to hit\n",
        "def hit(deck,hand):\n",
        "  hand.add(deck.deal_one())\n",
        "  hand.adjust_ace()"
      ],
      "execution_count": 8,
      "outputs": []
    },
    {
      "cell_type": "code",
      "metadata": {
        "id": "iBuG4iOWeqUN"
      },
      "source": [
        "#Fuction to display cards\n",
        "def show_some(player,dealer):\n",
        "  print(\"\\nDealer's card: \")\n",
        "  print(\"First card Hidden\")\n",
        "  print(dealer.mycard[1])\n",
        "  print(\"\\nPlayer's Card\",*player.mycard,sep='\\n')\n",
        "\n",
        "def show_all(player,dealer):\n",
        "  print(\"\\nDealer's card: \")\n",
        "  print(*dealer.mycard,sep='\\n')\n",
        "  print(\"Dealer's hand Value: \",dealer.value)\n",
        "  print(\"\\nPlayer's Card\",*player.mycard,sep='\\n')\n",
        "  print(\"Player's hand Value: \",player.value)"
      ],
      "execution_count": 9,
      "outputs": []
    },
    {
      "cell_type": "code",
      "metadata": {
        "id": "a0yyMOmlgsXC"
      },
      "source": [
        "#Winnig Scenarios\n",
        "def player_busts(player,dealer,player_chips):\n",
        "    print(\"Player busts!. Dealer Wins :(\")\n",
        "    player_chips.lose()\n",
        "\n",
        "def player_wins(player,dealer,chips):\n",
        "    print(\"Player wins the hand! :)\")\n",
        "    player_chips.win()\n",
        "\n",
        "def dealer_busts(player,dealer,chips):\n",
        "    print(\"Dealer busts! Player wins the hand :)\")\n",
        "    player_chips.win()\n",
        "    \n",
        "def dealer_wins(player,dealer,chips):\n",
        "    print(\"Dealer wins the hand! :( \")\n",
        "    player_chips.lose()\n",
        "    \n",
        "def push(player,dealer):\n",
        "    print(\"Dealer and Player tie! It's a push.\")"
      ],
      "execution_count": 10,
      "outputs": []
    },
    {
      "cell_type": "code",
      "metadata": {
        "colab": {
          "base_uri": "https://localhost:8080/"
        },
        "id": "NIF-gB3qYrUi",
        "outputId": "be371e19-136b-43af-8850-4ce7ce7fc266"
      },
      "source": [
        "#Game Logic\n",
        "  # Print an opening statement\n",
        "print('Welocme!! you can buy chips here to play BalckJack game. Please')\n",
        "name=input('Please Enter Your Name:')\n",
        "play_again=True\n",
        "while True:\n",
        "  playing=True\n",
        "  try:\n",
        "    initial_bid=int(input('Enter number of chips you would like to buy:'))\n",
        "  except:\n",
        "    print('Please enter valid Number')\n",
        "  else:\n",
        "    break\n",
        "player_chips=Bid(name,initial_bid)\n",
        "while play_again:\n",
        "  print('Welcome to BlackJack! Get as close to 21 as you can without going over!\\n\\\n",
        "    Dealer hits until she reaches 17. Aces count as 1 or 11.')\n",
        "  deck=Deck()\n",
        "  deck.shuffl()\n",
        "  player_hand=Player()\n",
        "  player_hand.add(deck.deal_one())\n",
        "  player_hand.add(deck.deal_one())\n",
        "  dealer_hand=Player()\n",
        "  dealer_hand.add(deck.deal_one())\n",
        "  dealer_hand.add(deck.deal_one())\n",
        "  take_bet(player_chips)\n",
        "  show_some(player_hand,dealer_hand)\n",
        "  while playing:\n",
        "    playing = hit_or_stand(deck,player_hand,playing)\n",
        "    show_some(player_hand,dealer_hand)\n",
        "    if player_hand.value>21:\n",
        "      player_busts(player_hand,dealer_hand,player_chips)\n",
        "      break\n",
        "  if player_hand.value<=21:\n",
        "    while dealer_hand.value <17:\n",
        "      hit(deck,dealer_hand)\n",
        "      #show all cards\n",
        "    show_all(player_hand,dealer_hand)\n",
        "    #check deffernt scenario\n",
        "    if dealer_hand.value>21:\n",
        "      dealer_busts(player_hand,dealer_hand,player_chips)\n",
        "    elif dealer_hand.value<player_hand.value:\n",
        "      player_wins(player_hand,dealer_hand,player_chips)\n",
        "    elif dealer_hand.value>player_hand.value:\n",
        "      dealer_wins(player_hand,dealer_hand,player_chips)\n",
        "    else:\n",
        "      push(player_hand,dealer_hand)\n",
        "  print('Great Play!',player_chips)\n",
        "  if player_chips.bid_amt<=0:\n",
        "    print(f'Exciting Game {player_chips.name}, you are out of chips!!,Exiting game Please Play again after Re-fill')\n",
        "    break\n",
        "  while True:\n",
        "    again= input('Do you want to play again y or n: ')\n",
        "    if again[0].lower()=='y':\n",
        "      playing=True\n",
        "      break\n",
        "    elif again[0].lower()=='n':\n",
        "      print('Thanks for Playing,,.')\n",
        "      play_again=False\n",
        "      break\n",
        "    else:\n",
        "      print('Wrong input!! Try again')\n",
        "      continue\n",
        "\n",
        "\n",
        "\n",
        "    \n",
        "\n",
        "\n",
        "\n",
        "\n",
        "\n",
        "\n"
      ],
      "execution_count": 11,
      "outputs": [
        {
          "output_type": "stream",
          "text": [
            "Welocme!! you can buy chips here to play BalckJack game. Please\n",
            "Please Enter Your Name:vicky\n",
            "Enter number of chips you would like to buy:100\n",
            "Welcome to BlackJack! Get as close to 21 as you can without going over!\n",
            "    Dealer hits until she reaches 17. Aces count as 1 or 11.\n",
            "Enter your bet for the game:100\n",
            "\n",
            "Dealer's card: \n",
            "First card Hidden\n",
            "Two of Hearts\n",
            "\n",
            "Player's Card\n",
            "Ace of Club\n",
            "Three of Diamonds\n",
            "Would you like to Hit or Stand? Enter 'h' or 's' h\n",
            "\n",
            "Dealer's card: \n",
            "First card Hidden\n",
            "Two of Hearts\n",
            "\n",
            "Player's Card\n",
            "Ace of Club\n",
            "Three of Diamonds\n",
            "Six of Club\n",
            "Would you like to Hit or Stand? Enter 'h' or 's' h\n",
            "\n",
            "Dealer's card: \n",
            "First card Hidden\n",
            "Two of Hearts\n",
            "\n",
            "Player's Card\n",
            "Ace of Club\n",
            "Three of Diamonds\n",
            "Six of Club\n",
            "Four of Spades\n",
            "Would you like to Hit or Stand? Enter 'h' or 's' h\n",
            "\n",
            "Dealer's card: \n",
            "First card Hidden\n",
            "Two of Hearts\n",
            "\n",
            "Player's Card\n",
            "Ace of Club\n",
            "Three of Diamonds\n",
            "Six of Club\n",
            "Four of Spades\n",
            "Queen of Diamonds\n",
            "Player busts!. Dealer Wins :(\n",
            "Great Play! vicky has 0 chips \n",
            "Exciting Game vicky, you are out of chips!!,Exiting game Please Play again after Re-fill\n"
          ],
          "name": "stdout"
        }
      ]
    },
    {
      "cell_type": "code",
      "metadata": {
        "id": "CZFcqXW_lBgY"
      },
      "source": [
        ""
      ],
      "execution_count": null,
      "outputs": []
    }
  ]
}